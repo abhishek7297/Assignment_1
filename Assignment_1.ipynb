{
 "cells": [
  {
   "cell_type": "markdown",
   "id": "bb955eea",
   "metadata": {},
   "source": [
    "### Q1)\n",
    "' *, -, +, /' - These are the expressions\n",
    "\n",
    "#### and \n",
    "\n",
    "'hello', -87.5, 6 - These are values."
   ]
  },
  {
   "cell_type": "markdown",
   "id": "3dc285a2",
   "metadata": {},
   "source": []
  },
  {
   "cell_type": "markdown",
   "id": "de5469ae",
   "metadata": {},
   "source": [
    "### Q2) \n",
    "\n",
    "A variable can be thought of as a container which stores some values. Those values can be a string, integer, float, boolean values, lists etc. Eg - height = 181. Here height is a variable. \n",
    "\n",
    "\n",
    "A string is a sequence of characters such as letters, numbers or symbols, which is written enclosed by single/double inverted commas. It represents textual data. Commonly used to represent text, words or sentences."
   ]
  },
  {
   "cell_type": "markdown",
   "id": "b9b8f92b",
   "metadata": {},
   "source": []
  },
  {
   "cell_type": "markdown",
   "id": "f7940664",
   "metadata": {},
   "source": [
    "### Q3) \n",
    "\n",
    "There are different types of data.\n",
    "\n",
    "* Integers - Integers are whole numbers which can be positive or negative with no fractional part. Eg - 1, 2, 0 , -5 etc.\n",
    "\n",
    "\n",
    "* Float - are numbers with a fractional part. And if the numbers are written in decimals. For eg - 1.2, -2.3, 3.00 ( Even 3.00             would be considered a floating point number because it contains a decimal point).\n",
    "\n",
    "\n",
    "* Strings - are a sequence of characters like letters, numbers, symbols in quoted marks. Eg - 'hello', 'elephant23', 'Doc@98'.\n",
    "\n",
    "\n",
    "* Boolean - Boolean values represent logical values, it can either be True or False.It is used to represent the truthfulness or             falseness of a condition or statement. For eg - a = 10, b= 5.. is_greater = a > 5 . This code would return True in               the output because this condition/statement is True.\n",
    "\n",
    "\n",
    "* Lists - A list in python is an ordered collection of items created by using [] (square brackets). The items in a list are                mutable, which means items in a list can be changed (added, subtracted, modified). Eg - ['apples', 25, True, '!@#' ]\n",
    "\n",
    "\n",
    "* Tuples - is an ordered collection of items created by using parenthesis (). The items in a tuple are immutable.\n",
    "           Eg - my_tuple = (1, 2, 3, 4, 5)\n",
    "\n",
    "\n",
    "* Sets - Sets are an unordered collection of items in which every element is unique. \n",
    "         Created using curly brackets.\n",
    "         For eg - my_set = {'apples', 'oranges',5,5}. If we run the code the output would return \n",
    "         my_set = {'apples', 'oranges',5}. Because 5 is repeated in the initial code.\n",
    "\n",
    "\n",
    "* Dictionaries - are unordered collection of key-value pairs. Created using curly brackets, in which there are keys and its                      respective values. For eg - diccc = { 'Name' : \"Abhishek\", 'Age' : 25 , (1,34,5) : [1,2]}"
   ]
  },
  {
   "cell_type": "markdown",
   "id": "5593bcf8",
   "metadata": {},
   "source": [
    "### Q4) \n",
    "\n",
    "An expression is made up of a combination of values, variables, operators , function calls which when combined produces a result. Eg - x = 2 + 4, y = 5 + x, z = sqrt(9) + (x-y)/2.\n",
    "\n",
    "Expressions combined produces a result when evauated.\n"
   ]
  },
  {
   "cell_type": "markdown",
   "id": "1ef27518",
   "metadata": {},
   "source": [
    "### Q5)\n",
    "In Python, an expression is a combination of values, variables, operators, and function calls that evaluates to a value. It produces a result when executed and can be used as part of a larger expression or assigned to a variable.\n",
    "\n",
    "On the other hand, a statement is a complete instruction or command that performs an action or controls the flow of a program. Statements are standalone and can include expressions. They often change the state of a program, manipulate data, or control the program's execution.\n",
    "\n",
    "spam = 10 is an assignment statement. It assigns the value 10 to the variable spam. The expression on the right side of the assignment operator (10) is evaluated and the resulting value is stored in the variable."
   ]
  },
  {
   "cell_type": "markdown",
   "id": "160c5fd8",
   "metadata": {},
   "source": [
    "### Q6)\n",
    "bacon = 22\n",
    "bacon + 1\n",
    "\n",
    "\n",
    "The variable bacon becomes 23\n",
    "bacon = 23"
   ]
  },
  {
   "cell_type": "code",
   "execution_count": 20,
   "id": "275c0744",
   "metadata": {},
   "outputs": [
    {
     "data": {
      "text/plain": [
       "23"
      ]
     },
     "execution_count": 20,
     "metadata": {},
     "output_type": "execute_result"
    }
   ],
   "source": [
    "bacon = 22\n",
    "bacon + 1"
   ]
  },
  {
   "cell_type": "markdown",
   "id": "8043f0be",
   "metadata": {},
   "source": [
    "### Q7)"
   ]
  },
  {
   "cell_type": "code",
   "execution_count": 21,
   "id": "6dde22fc",
   "metadata": {},
   "outputs": [
    {
     "data": {
      "text/plain": [
       "'spamspamspam'"
      ]
     },
     "execution_count": 21,
     "metadata": {},
     "output_type": "execute_result"
    }
   ],
   "source": [
    "\n",
    "'spam' + 'spamspam'"
   ]
  },
  {
   "cell_type": "code",
   "execution_count": 22,
   "id": "ba7b2dfa",
   "metadata": {},
   "outputs": [
    {
     "data": {
      "text/plain": [
       "'spamspamspam'"
      ]
     },
     "execution_count": 22,
     "metadata": {},
     "output_type": "execute_result"
    }
   ],
   "source": [
    "'spam' * 3"
   ]
  },
  {
   "cell_type": "markdown",
   "id": "c3d5ddf3",
   "metadata": {},
   "source": [
    "### Q8)"
   ]
  },
  {
   "cell_type": "markdown",
   "id": "44decbac",
   "metadata": {},
   "source": [
    "eggs is a valid variabe name as it follows the rules of how a variable should be named. It doesn't contain any keyword.\n",
    "\n",
    "whereas 100 is not a valid variabe name as a variable name cannot start with a number."
   ]
  }
 ],
 "metadata": {
  "kernelspec": {
   "display_name": "Python 3 (ipykernel)",
   "language": "python",
   "name": "python3"
  },
  "language_info": {
   "codemirror_mode": {
    "name": "ipython",
    "version": 3
   },
   "file_extension": ".py",
   "mimetype": "text/x-python",
   "name": "python",
   "nbconvert_exporter": "python",
   "pygments_lexer": "ipython3",
   "version": "3.9.13"
  }
 },
 "nbformat": 4,
 "nbformat_minor": 5
}
